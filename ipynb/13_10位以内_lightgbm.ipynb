{
 "cells": [
  {
   "cell_type": "markdown",
   "metadata": {},
   "source": [
    "# 人気10位以内抽出\n",
    "その中で5着以内か否かを当てる"
   ]
  },
  {
   "cell_type": "code",
   "execution_count": 1,
   "metadata": {},
   "outputs": [],
   "source": [
    "import numpy as np\n",
    "import pandas as pd\n",
    "import matplotlib.pyplot as plt\n",
    "\n",
    "pd.set_option('display.max_columns', 100)"
   ]
  },
  {
   "cell_type": "markdown",
   "metadata": {},
   "source": [
    "# データ読み込み"
   ]
  },
  {
   "cell_type": "code",
   "execution_count": 2,
   "metadata": {},
   "outputs": [
    {
     "data": {
      "text/plain": [
       "(249206, 40)"
      ]
     },
     "execution_count": 2,
     "metadata": {},
     "output_type": "execute_result"
    }
   ],
   "source": [
    "df = pd.read_pickle(\"2015-2020.pkl\")\n",
    "df.shape"
   ]
  },
  {
   "cell_type": "markdown",
   "metadata": {},
   "source": [
    "## 障害レース除外"
   ]
  },
  {
   "cell_type": "code",
   "execution_count": 3,
   "metadata": {},
   "outputs": [
    {
     "data": {
      "text/plain": [
       "(241583, 40)"
      ]
     },
     "execution_count": 3,
     "metadata": {},
     "output_type": "execute_result"
    }
   ],
   "source": [
    "df = df.loc[~(df[\"race_type\"] == \"障\")]\n",
    "df.shape"
   ]
  },
  {
   "cell_type": "markdown",
   "metadata": {},
   "source": [
    "## 目的変数作成(0か1の二項分類)"
   ]
  },
  {
   "cell_type": "code",
   "execution_count": 4,
   "metadata": {},
   "outputs": [],
   "source": [
    "df[\"5th\"] = 0\n",
    "# 5位以内なら1\n",
    "df.loc[df[\"order\"] <= 5, \"5th\"] = 1"
   ]
  },
  {
   "cell_type": "code",
   "execution_count": 5,
   "metadata": {},
   "outputs": [
    {
     "data": {
      "text/html": [
       "<div>\n",
       "<style scoped>\n",
       "    .dataframe tbody tr th:only-of-type {\n",
       "        vertical-align: middle;\n",
       "    }\n",
       "\n",
       "    .dataframe tbody tr th {\n",
       "        vertical-align: top;\n",
       "    }\n",
       "\n",
       "    .dataframe thead th {\n",
       "        text-align: right;\n",
       "    }\n",
       "</style>\n",
       "<table border=\"1\" class=\"dataframe\">\n",
       "  <thead>\n",
       "    <tr style=\"text-align: right;\">\n",
       "      <th></th>\n",
       "      <th>race_id</th>\n",
       "      <th>race_date</th>\n",
       "      <th>race_number</th>\n",
       "      <th>race_name</th>\n",
       "      <th>race_course</th>\n",
       "      <th>event_date</th>\n",
       "      <th>race_type</th>\n",
       "      <th>race_distance</th>\n",
       "      <th>race_weather</th>\n",
       "      <th>race_state</th>\n",
       "      <th>horses</th>\n",
       "      <th>expect1</th>\n",
       "      <th>expect2</th>\n",
       "      <th>expect3</th>\n",
       "      <th>uren1</th>\n",
       "      <th>uren2</th>\n",
       "      <th>sanfuku1</th>\n",
       "      <th>sanfuku2</th>\n",
       "      <th>order</th>\n",
       "      <th>frame</th>\n",
       "      <th>number</th>\n",
       "      <th>name</th>\n",
       "      <th>gender</th>\n",
       "      <th>age</th>\n",
       "      <th>jockey</th>\n",
       "      <th>odds</th>\n",
       "      <th>popular</th>\n",
       "      <th>area</th>\n",
       "      <th>trainer</th>\n",
       "      <th>prize</th>\n",
       "      <th>speed_min_max</th>\n",
       "      <th>agari_min_max</th>\n",
       "      <th>past_horse_agari_mean</th>\n",
       "      <th>past_horse_order_mean</th>\n",
       "      <th>past_horse_prize_sum</th>\n",
       "      <th>past_horse_speed_mean</th>\n",
       "      <th>past_jockey_order_mean</th>\n",
       "      <th>past_jockey_prize_sum</th>\n",
       "      <th>past_trainer_order_mean</th>\n",
       "      <th>past_trainer_prize_sum</th>\n",
       "      <th>5th</th>\n",
       "    </tr>\n",
       "  </thead>\n",
       "  <tbody>\n",
       "    <tr>\n",
       "      <td>176463</td>\n",
       "      <td>201609030501</td>\n",
       "      <td>2016-06-18</td>\n",
       "      <td>1</td>\n",
       "      <td>2歳未勝利</td>\n",
       "      <td>阪神</td>\n",
       "      <td>5</td>\n",
       "      <td>芝</td>\n",
       "      <td>1400</td>\n",
       "      <td>晴</td>\n",
       "      <td>稍重</td>\n",
       "      <td>8</td>\n",
       "      <td>3</td>\n",
       "      <td>2</td>\n",
       "      <td>5</td>\n",
       "      <td>6860</td>\n",
       "      <td>0</td>\n",
       "      <td>1430</td>\n",
       "      <td>0</td>\n",
       "      <td>5</td>\n",
       "      <td>7</td>\n",
       "      <td>7</td>\n",
       "      <td>ハンズスミス</td>\n",
       "      <td>牡</td>\n",
       "      <td>2</td>\n",
       "      <td>和田竜二</td>\n",
       "      <td>16.6</td>\n",
       "      <td>3</td>\n",
       "      <td>西</td>\n",
       "      <td>西村真幸</td>\n",
       "      <td>50.0</td>\n",
       "      <td>0.211483</td>\n",
       "      <td>0.800000</td>\n",
       "      <td>0.384615</td>\n",
       "      <td>3.0</td>\n",
       "      <td>180.0</td>\n",
       "      <td>0.676703</td>\n",
       "      <td>6.80</td>\n",
       "      <td>6219.2</td>\n",
       "      <td>8.38</td>\n",
       "      <td>9253.6</td>\n",
       "      <td>1</td>\n",
       "    </tr>\n",
       "    <tr>\n",
       "      <td>24624</td>\n",
       "      <td>201904020307</td>\n",
       "      <td>2019-08-03</td>\n",
       "      <td>7</td>\n",
       "      <td>3歳未勝利</td>\n",
       "      <td>新潟</td>\n",
       "      <td>3</td>\n",
       "      <td>芝</td>\n",
       "      <td>1600</td>\n",
       "      <td>晴</td>\n",
       "      <td>良</td>\n",
       "      <td>18</td>\n",
       "      <td>4</td>\n",
       "      <td>9</td>\n",
       "      <td>2</td>\n",
       "      <td>4750</td>\n",
       "      <td>0</td>\n",
       "      <td>13310</td>\n",
       "      <td>0</td>\n",
       "      <td>10</td>\n",
       "      <td>5</td>\n",
       "      <td>10</td>\n",
       "      <td>クノイチ</td>\n",
       "      <td>牝</td>\n",
       "      <td>3</td>\n",
       "      <td>内田博幸</td>\n",
       "      <td>112.9</td>\n",
       "      <td>13</td>\n",
       "      <td>東</td>\n",
       "      <td>古賀慎明</td>\n",
       "      <td>0.0</td>\n",
       "      <td>0.890407</td>\n",
       "      <td>0.153846</td>\n",
       "      <td>0.717054</td>\n",
       "      <td>10.0</td>\n",
       "      <td>0.0</td>\n",
       "      <td>0.505327</td>\n",
       "      <td>7.28</td>\n",
       "      <td>7733.2</td>\n",
       "      <td>6.87</td>\n",
       "      <td>11692.3</td>\n",
       "      <td>0</td>\n",
       "    </tr>\n",
       "    <tr>\n",
       "      <td>105347</td>\n",
       "      <td>201708050808</td>\n",
       "      <td>2017-11-26</td>\n",
       "      <td>8</td>\n",
       "      <td>3歳以上1000万下</td>\n",
       "      <td>京都</td>\n",
       "      <td>8</td>\n",
       "      <td>ダ</td>\n",
       "      <td>1900</td>\n",
       "      <td>晴</td>\n",
       "      <td>良</td>\n",
       "      <td>15</td>\n",
       "      <td>5</td>\n",
       "      <td>2</td>\n",
       "      <td>4</td>\n",
       "      <td>2560</td>\n",
       "      <td>0</td>\n",
       "      <td>10810</td>\n",
       "      <td>0</td>\n",
       "      <td>11</td>\n",
       "      <td>1</td>\n",
       "      <td>1</td>\n",
       "      <td>ピントゥリッキオ</td>\n",
       "      <td>牝</td>\n",
       "      <td>4</td>\n",
       "      <td>大野拓弥</td>\n",
       "      <td>127.3</td>\n",
       "      <td>14</td>\n",
       "      <td>東</td>\n",
       "      <td>池上昌和</td>\n",
       "      <td>0.0</td>\n",
       "      <td>0.615028</td>\n",
       "      <td>0.411765</td>\n",
       "      <td>0.161765</td>\n",
       "      <td>7.5</td>\n",
       "      <td>0.0</td>\n",
       "      <td>0.650812</td>\n",
       "      <td>7.36</td>\n",
       "      <td>6298.8</td>\n",
       "      <td>8.93</td>\n",
       "      <td>5100.0</td>\n",
       "      <td>0</td>\n",
       "    </tr>\n",
       "    <tr>\n",
       "      <td>36794</td>\n",
       "      <td>201908030308</td>\n",
       "      <td>2019-04-28</td>\n",
       "      <td>8</td>\n",
       "      <td>糺の森特別</td>\n",
       "      <td>京都</td>\n",
       "      <td>3</td>\n",
       "      <td>芝</td>\n",
       "      <td>1800</td>\n",
       "      <td>晴</td>\n",
       "      <td>良</td>\n",
       "      <td>11</td>\n",
       "      <td>6</td>\n",
       "      <td>7</td>\n",
       "      <td>2</td>\n",
       "      <td>3110</td>\n",
       "      <td>0</td>\n",
       "      <td>6800</td>\n",
       "      <td>0</td>\n",
       "      <td>10</td>\n",
       "      <td>6</td>\n",
       "      <td>7</td>\n",
       "      <td>サウンドマジック</td>\n",
       "      <td>牝</td>\n",
       "      <td>5</td>\n",
       "      <td>藤井勘一</td>\n",
       "      <td>50.7</td>\n",
       "      <td>10</td>\n",
       "      <td>東</td>\n",
       "      <td>和田正一</td>\n",
       "      <td>0.0</td>\n",
       "      <td>0.085264</td>\n",
       "      <td>0.962264</td>\n",
       "      <td>0.764286</td>\n",
       "      <td>14.5</td>\n",
       "      <td>0.0</td>\n",
       "      <td>0.348516</td>\n",
       "      <td>7.36</td>\n",
       "      <td>7242.6</td>\n",
       "      <td>7.84</td>\n",
       "      <td>19163.8</td>\n",
       "      <td>0</td>\n",
       "    </tr>\n",
       "    <tr>\n",
       "      <td>15577</td>\n",
       "      <td>201905040312</td>\n",
       "      <td>2019-10-15</td>\n",
       "      <td>12</td>\n",
       "      <td>3歳以上1勝クラス</td>\n",
       "      <td>東京</td>\n",
       "      <td>3</td>\n",
       "      <td>ダ</td>\n",
       "      <td>1600</td>\n",
       "      <td>曇</td>\n",
       "      <td>稍重</td>\n",
       "      <td>10</td>\n",
       "      <td>7</td>\n",
       "      <td>8</td>\n",
       "      <td>5</td>\n",
       "      <td>3620</td>\n",
       "      <td>0</td>\n",
       "      <td>58440</td>\n",
       "      <td>0</td>\n",
       "      <td>5</td>\n",
       "      <td>7</td>\n",
       "      <td>7</td>\n",
       "      <td>メンディ</td>\n",
       "      <td>牡</td>\n",
       "      <td>3</td>\n",
       "      <td>木幡初也</td>\n",
       "      <td>5.5</td>\n",
       "      <td>3</td>\n",
       "      <td>東</td>\n",
       "      <td>杉浦宏昭</td>\n",
       "      <td>75.0</td>\n",
       "      <td>0.761213</td>\n",
       "      <td>0.394737</td>\n",
       "      <td>0.602926</td>\n",
       "      <td>6.5</td>\n",
       "      <td>190.0</td>\n",
       "      <td>0.516195</td>\n",
       "      <td>10.02</td>\n",
       "      <td>2085.0</td>\n",
       "      <td>7.23</td>\n",
       "      <td>11791.8</td>\n",
       "      <td>1</td>\n",
       "    </tr>\n",
       "  </tbody>\n",
       "</table>\n",
       "</div>"
      ],
      "text/plain": [
       "             race_id  race_date  race_number   race_name race_course  \\\n",
       "176463  201609030501 2016-06-18            1       2歳未勝利          阪神   \n",
       "24624   201904020307 2019-08-03            7       3歳未勝利          新潟   \n",
       "105347  201708050808 2017-11-26            8  3歳以上1000万下          京都   \n",
       "36794   201908030308 2019-04-28            8      糺の森特別           京都   \n",
       "15577   201905040312 2019-10-15           12   3歳以上1勝クラス          東京   \n",
       "\n",
       "        event_date race_type  race_distance race_weather race_state  horses  \\\n",
       "176463           5         芝           1400            晴         稍重       8   \n",
       "24624            3         芝           1600            晴          良      18   \n",
       "105347           8         ダ           1900            晴          良      15   \n",
       "36794            3         芝           1800            晴          良      11   \n",
       "15577            3         ダ           1600            曇         稍重      10   \n",
       "\n",
       "        expect1  expect2  expect3  uren1  uren2  sanfuku1  sanfuku2  order  \\\n",
       "176463        3        2        5   6860      0      1430         0      5   \n",
       "24624         4        9        2   4750      0     13310         0     10   \n",
       "105347        5        2        4   2560      0     10810         0     11   \n",
       "36794         6        7        2   3110      0      6800         0     10   \n",
       "15577         7        8        5   3620      0     58440         0      5   \n",
       "\n",
       "        frame  number      name gender  age jockey   odds  popular area  \\\n",
       "176463      7       7    ハンズスミス      牡    2   和田竜二   16.6        3    西   \n",
       "24624       5      10      クノイチ      牝    3   内田博幸  112.9       13    東   \n",
       "105347      1       1  ピントゥリッキオ      牝    4   大野拓弥  127.3       14    東   \n",
       "36794       6       7  サウンドマジック      牝    5   藤井勘一   50.7       10    東   \n",
       "15577       7       7      メンディ      牡    3   木幡初也    5.5        3    東   \n",
       "\n",
       "       trainer  prize  speed_min_max  agari_min_max  past_horse_agari_mean  \\\n",
       "176463    西村真幸   50.0       0.211483       0.800000               0.384615   \n",
       "24624     古賀慎明    0.0       0.890407       0.153846               0.717054   \n",
       "105347    池上昌和    0.0       0.615028       0.411765               0.161765   \n",
       "36794     和田正一    0.0       0.085264       0.962264               0.764286   \n",
       "15577     杉浦宏昭   75.0       0.761213       0.394737               0.602926   \n",
       "\n",
       "        past_horse_order_mean  past_horse_prize_sum  past_horse_speed_mean  \\\n",
       "176463                    3.0                 180.0               0.676703   \n",
       "24624                    10.0                   0.0               0.505327   \n",
       "105347                    7.5                   0.0               0.650812   \n",
       "36794                    14.5                   0.0               0.348516   \n",
       "15577                     6.5                 190.0               0.516195   \n",
       "\n",
       "        past_jockey_order_mean  past_jockey_prize_sum  \\\n",
       "176463                    6.80                 6219.2   \n",
       "24624                     7.28                 7733.2   \n",
       "105347                    7.36                 6298.8   \n",
       "36794                     7.36                 7242.6   \n",
       "15577                    10.02                 2085.0   \n",
       "\n",
       "        past_trainer_order_mean  past_trainer_prize_sum  5th  \n",
       "176463                     8.38                  9253.6    1  \n",
       "24624                      6.87                 11692.3    0  \n",
       "105347                     8.93                  5100.0    0  \n",
       "36794                      7.84                 19163.8    0  \n",
       "15577                      7.23                 11791.8    1  "
      ]
     },
     "execution_count": 5,
     "metadata": {},
     "output_type": "execute_result"
    }
   ],
   "source": [
    "# ランダムに確認\n",
    "df.sample(5)"
   ]
  },
  {
   "cell_type": "code",
   "execution_count": 6,
   "metadata": {},
   "outputs": [
    {
     "data": {
      "text/plain": [
       "17030"
      ]
     },
     "execution_count": 6,
     "metadata": {},
     "output_type": "execute_result"
    }
   ],
   "source": [
    "# レース数\n",
    "len(df[\"race_id\"].unique())"
   ]
  },
  {
   "cell_type": "code",
   "execution_count": 7,
   "metadata": {},
   "outputs": [
    {
     "data": {
      "text/plain": [
       "14.1857310628303"
      ]
     },
     "execution_count": 7,
     "metadata": {},
     "output_type": "execute_result"
    }
   ],
   "source": [
    "# 平均出頭数\n",
    "df.shape[0] / len(df[\"race_id\"].unique())"
   ]
  },
  {
   "cell_type": "code",
   "execution_count": 8,
   "metadata": {},
   "outputs": [
    {
     "data": {
      "text/plain": [
       "Timestamp('2015-01-04 00:00:00')"
      ]
     },
     "execution_count": 8,
     "metadata": {},
     "output_type": "execute_result"
    }
   ],
   "source": [
    "# 一番古い日\n",
    "df[\"race_date\"].min()"
   ]
  },
  {
   "cell_type": "code",
   "execution_count": 9,
   "metadata": {},
   "outputs": [
    {
     "data": {
      "text/plain": [
       "Timestamp('2020-02-09 00:00:00')"
      ]
     },
     "execution_count": 9,
     "metadata": {},
     "output_type": "execute_result"
    }
   ],
   "source": [
    "# 一番新しい日\n",
    "df[\"race_date\"].max()"
   ]
  },
  {
   "cell_type": "code",
   "execution_count": 10,
   "metadata": {},
   "outputs": [
    {
     "data": {
      "text/plain": [
       "6989"
      ]
     },
     "execution_count": 10,
     "metadata": {},
     "output_type": "execute_result"
    }
   ],
   "source": [
    "# 人気11位以降の馬が、結果５位以内に入っている数\n",
    "df.loc[(df[\"popular\"] > 10) & (df[\"5th\"] == 1)].count()[0]"
   ]
  },
  {
   "cell_type": "code",
   "execution_count": 11,
   "metadata": {},
   "outputs": [
    {
     "name": "stdout",
     "output_type": "stream",
     "text": [
      "2.89%\n"
     ]
    }
   ],
   "source": [
    "# その割合\n",
    "print(f\"{(6989 / df.shape[0]) * 100:.3}%\")"
   ]
  },
  {
   "cell_type": "code",
   "execution_count": 12,
   "metadata": {},
   "outputs": [
    {
     "data": {
      "text/plain": [
       "16    103342\n",
       "15     28642\n",
       "18     25306\n",
       "14     20064\n",
       "13     16021\n",
       "12     15212\n",
       "11     10508\n",
       "10      8257\n",
       "9       5277\n",
       "17      4696\n",
       "8       3067\n",
       "7        863\n",
       "6        263\n",
       "5         65\n",
       "Name: horses, dtype: int64"
      ]
     },
     "execution_count": 12,
     "metadata": {},
     "output_type": "execute_result"
    }
   ],
   "source": [
    "# 何頭立てレースが多いか\n",
    "df[\"horses\"].value_counts()"
   ]
  },
  {
   "cell_type": "code",
   "execution_count": 13,
   "metadata": {},
   "outputs": [
    {
     "data": {
      "text/plain": [
       "1     16997\n",
       "3     16997\n",
       "4     16990\n",
       "2     16988\n",
       "6     16979\n",
       "5     16977\n",
       "7     16922\n",
       "8     16798\n",
       "9     16397\n",
       "10    15781\n",
       "11    14950\n",
       "12    13966\n",
       "13    12696\n",
       "14    11422\n",
       "15     9947\n",
       "16     7779\n",
       "17     1663\n",
       "18     1334\n",
       "Name: popular, dtype: int64"
      ]
     },
     "execution_count": 13,
     "metadata": {},
     "output_type": "execute_result"
    }
   ],
   "source": [
    "# 人気の種類\n",
    "df[\"popular\"].value_counts()"
   ]
  },
  {
   "cell_type": "markdown",
   "metadata": {},
   "source": [
    "## 人気11位以下削除"
   ]
  },
  {
   "cell_type": "code",
   "execution_count": 14,
   "metadata": {},
   "outputs": [],
   "source": [
    "df = df.loc[~(df[\"popular\"] > 10)]"
   ]
  },
  {
   "cell_type": "code",
   "execution_count": 15,
   "metadata": {},
   "outputs": [
    {
     "data": {
      "text/plain": [
       "(167826, 41)"
      ]
     },
     "execution_count": 15,
     "metadata": {},
     "output_type": "execute_result"
    }
   ],
   "source": [
    "df.shape"
   ]
  },
  {
   "cell_type": "code",
   "execution_count": 16,
   "metadata": {},
   "outputs": [
    {
     "data": {
      "text/plain": [
       "3     16997\n",
       "1     16997\n",
       "4     16990\n",
       "2     16988\n",
       "6     16979\n",
       "5     16977\n",
       "7     16922\n",
       "8     16798\n",
       "9     16397\n",
       "10    15781\n",
       "Name: popular, dtype: int64"
      ]
     },
     "execution_count": 16,
     "metadata": {},
     "output_type": "execute_result"
    }
   ],
   "source": [
    "# 人気の数再確認(11位以下はない)\n",
    "df[\"popular\"].value_counts()"
   ]
  },
  {
   "cell_type": "markdown",
   "metadata": {},
   "source": [
    "## この時点での1の割合"
   ]
  },
  {
   "cell_type": "code",
   "execution_count": 17,
   "metadata": {},
   "outputs": [
    {
     "name": "stdout",
     "output_type": "stream",
     "text": [
      "5着以内に入った馬の数 78,201\n",
      "全馬レコード数 167,826\n",
      "5着以内に入った馬の割合 0.4659647492045333\n",
      "6着以下の馬の数 89,625\n"
     ]
    }
   ],
   "source": [
    "all_5 = df[\"5th\"].sum()\n",
    "all_record = df.shape[0]\n",
    "print(f\"5着以内に入った馬の数 {all_5:,}\")\n",
    "print(f\"全馬レコード数 {all_record:,}\")\n",
    "print(f\"5着以内に入った馬の割合 {all_5 / all_record:,}\")\n",
    "print(f\"6着以下の馬の数 {all_record - all_5:,}\")"
   ]
  },
  {
   "cell_type": "code",
   "execution_count": 18,
   "metadata": {},
   "outputs": [
    {
     "data": {
      "text/plain": [
       "0.5340352507954668"
      ]
     },
     "execution_count": 18,
     "metadata": {},
     "output_type": "execute_result"
    }
   ],
   "source": [
    "# 全部0と答えると下の正解率\n",
    "df.loc[df[\"5th\"] == 0].count()[0]/all_record"
   ]
  },
  {
   "cell_type": "markdown",
   "metadata": {},
   "source": [
    "## 人気５位以内の馬が、５着以内に入っている数"
   ]
  },
  {
   "cell_type": "code",
   "execution_count": 19,
   "metadata": {},
   "outputs": [
    {
     "data": {
      "text/plain": [
       "53765"
      ]
     },
     "execution_count": 19,
     "metadata": {},
     "output_type": "execute_result"
    }
   ],
   "source": [
    "df.loc[(df[\"order\"] <= 5) & (df[\"popular\"] <= 5)].count()[0]"
   ]
  },
  {
   "cell_type": "markdown",
   "metadata": {},
   "source": [
    "## 人気５位以内の馬が、５着以内に入る確率"
   ]
  },
  {
   "cell_type": "code",
   "execution_count": 20,
   "metadata": {},
   "outputs": [
    {
     "data": {
      "text/plain": [
       "0.3203615649541787"
      ]
     },
     "execution_count": 20,
     "metadata": {},
     "output_type": "execute_result"
    }
   ],
   "source": [
    "53765 / df.shape[0]"
   ]
  },
  {
   "cell_type": "markdown",
   "metadata": {},
   "source": [
    "# 学習する前の下準備\n",
    "レース前に知り得ない情報、不要カラムを外して、かつ相関がありそうなものだけピックアップ"
   ]
  },
  {
   "cell_type": "code",
   "execution_count": 21,
   "metadata": {},
   "outputs": [],
   "source": [
    "# 説明変数\n",
    "X = df[[\n",
    "    'horses',\n",
    "    'age',\n",
    "    'odds',\n",
    "    'popular',\n",
    "    'past_horse_agari_mean',\n",
    "    'past_horse_order_mean',\n",
    "    'past_horse_prize_sum',\n",
    "    'past_horse_speed_mean',\n",
    "    'past_jockey_order_mean',\n",
    "    'past_jockey_prize_sum',\n",
    "    'past_trainer_order_mean', \n",
    "    'past_trainer_prize_sum'\n",
    "]].copy()\n",
    "\n",
    "# 目的変数\n",
    "y = df[\"5th\"]"
   ]
  },
  {
   "cell_type": "code",
   "execution_count": 22,
   "metadata": {},
   "outputs": [
    {
     "data": {
      "text/html": [
       "<div>\n",
       "<style scoped>\n",
       "    .dataframe tbody tr th:only-of-type {\n",
       "        vertical-align: middle;\n",
       "    }\n",
       "\n",
       "    .dataframe tbody tr th {\n",
       "        vertical-align: top;\n",
       "    }\n",
       "\n",
       "    .dataframe thead th {\n",
       "        text-align: right;\n",
       "    }\n",
       "</style>\n",
       "<table border=\"1\" class=\"dataframe\">\n",
       "  <thead>\n",
       "    <tr style=\"text-align: right;\">\n",
       "      <th></th>\n",
       "      <th>horses</th>\n",
       "      <th>age</th>\n",
       "      <th>odds</th>\n",
       "      <th>popular</th>\n",
       "      <th>past_horse_agari_mean</th>\n",
       "      <th>past_horse_order_mean</th>\n",
       "      <th>past_horse_prize_sum</th>\n",
       "      <th>past_horse_speed_mean</th>\n",
       "      <th>past_jockey_order_mean</th>\n",
       "      <th>past_jockey_prize_sum</th>\n",
       "      <th>past_trainer_order_mean</th>\n",
       "      <th>past_trainer_prize_sum</th>\n",
       "    </tr>\n",
       "  </thead>\n",
       "  <tbody>\n",
       "    <tr>\n",
       "      <td>0</td>\n",
       "      <td>16</td>\n",
       "      <td>3</td>\n",
       "      <td>11.3</td>\n",
       "      <td>4</td>\n",
       "      <td>0.350000</td>\n",
       "      <td>3.0</td>\n",
       "      <td>150.0</td>\n",
       "      <td>0.809415</td>\n",
       "      <td>9.74</td>\n",
       "      <td>3407.6</td>\n",
       "      <td>8.58</td>\n",
       "      <td>10741.7</td>\n",
       "    </tr>\n",
       "    <tr>\n",
       "      <td>1</td>\n",
       "      <td>16</td>\n",
       "      <td>3</td>\n",
       "      <td>3.8</td>\n",
       "      <td>2</td>\n",
       "      <td>0.279306</td>\n",
       "      <td>5.0</td>\n",
       "      <td>130.0</td>\n",
       "      <td>0.834979</td>\n",
       "      <td>4.46</td>\n",
       "      <td>21297.6</td>\n",
       "      <td>7.17</td>\n",
       "      <td>15379.7</td>\n",
       "    </tr>\n",
       "    <tr>\n",
       "      <td>2</td>\n",
       "      <td>16</td>\n",
       "      <td>3</td>\n",
       "      <td>1.6</td>\n",
       "      <td>1</td>\n",
       "      <td>0.016129</td>\n",
       "      <td>2.0</td>\n",
       "      <td>480.0</td>\n",
       "      <td>1.000000</td>\n",
       "      <td>8.24</td>\n",
       "      <td>4438.0</td>\n",
       "      <td>6.08</td>\n",
       "      <td>17585.5</td>\n",
       "    </tr>\n",
       "    <tr>\n",
       "      <td>3</td>\n",
       "      <td>16</td>\n",
       "      <td>3</td>\n",
       "      <td>19.9</td>\n",
       "      <td>6</td>\n",
       "      <td>0.049758</td>\n",
       "      <td>6.0</td>\n",
       "      <td>64.0</td>\n",
       "      <td>0.924364</td>\n",
       "      <td>6.90</td>\n",
       "      <td>13624.9</td>\n",
       "      <td>8.20</td>\n",
       "      <td>9629.9</td>\n",
       "    </tr>\n",
       "    <tr>\n",
       "      <td>4</td>\n",
       "      <td>16</td>\n",
       "      <td>3</td>\n",
       "      <td>9.6</td>\n",
       "      <td>3</td>\n",
       "      <td>0.189394</td>\n",
       "      <td>5.0</td>\n",
       "      <td>100.0</td>\n",
       "      <td>0.777167</td>\n",
       "      <td>5.96</td>\n",
       "      <td>12825.0</td>\n",
       "      <td>8.58</td>\n",
       "      <td>5307.6</td>\n",
       "    </tr>\n",
       "  </tbody>\n",
       "</table>\n",
       "</div>"
      ],
      "text/plain": [
       "   horses  age  odds  popular  past_horse_agari_mean  past_horse_order_mean  \\\n",
       "0      16    3  11.3        4               0.350000                    3.0   \n",
       "1      16    3   3.8        2               0.279306                    5.0   \n",
       "2      16    3   1.6        1               0.016129                    2.0   \n",
       "3      16    3  19.9        6               0.049758                    6.0   \n",
       "4      16    3   9.6        3               0.189394                    5.0   \n",
       "\n",
       "   past_horse_prize_sum  past_horse_speed_mean  past_jockey_order_mean  \\\n",
       "0                 150.0               0.809415                    9.74   \n",
       "1                 130.0               0.834979                    4.46   \n",
       "2                 480.0               1.000000                    8.24   \n",
       "3                  64.0               0.924364                    6.90   \n",
       "4                 100.0               0.777167                    5.96   \n",
       "\n",
       "   past_jockey_prize_sum  past_trainer_order_mean  past_trainer_prize_sum  \n",
       "0                 3407.6                     8.58                 10741.7  \n",
       "1                21297.6                     7.17                 15379.7  \n",
       "2                 4438.0                     6.08                 17585.5  \n",
       "3                13624.9                     8.20                  9629.9  \n",
       "4                12825.0                     8.58                  5307.6  "
      ]
     },
     "execution_count": 22,
     "metadata": {},
     "output_type": "execute_result"
    }
   ],
   "source": [
    "X.head()"
   ]
  },
  {
   "cell_type": "code",
   "execution_count": 23,
   "metadata": {},
   "outputs": [
    {
     "data": {
      "text/plain": [
       "0         1\n",
       "1         1\n",
       "2         1\n",
       "3         1\n",
       "4         1\n",
       "         ..\n",
       "249197    0\n",
       "249200    0\n",
       "249203    0\n",
       "249204    0\n",
       "249205    0\n",
       "Name: 5th, Length: 167826, dtype: int64"
      ]
     },
     "execution_count": 23,
     "metadata": {},
     "output_type": "execute_result"
    }
   ],
   "source": [
    "y"
   ]
  },
  {
   "cell_type": "code",
   "execution_count": 24,
   "metadata": {},
   "outputs": [
    {
     "data": {
      "text/plain": [
       "(167826, 12)"
      ]
     },
     "execution_count": 24,
     "metadata": {},
     "output_type": "execute_result"
    }
   ],
   "source": [
    "X.shape"
   ]
  },
  {
   "cell_type": "code",
   "execution_count": 25,
   "metadata": {},
   "outputs": [
    {
     "data": {
      "text/plain": [
       "(167826,)"
      ]
     },
     "execution_count": 25,
     "metadata": {},
     "output_type": "execute_result"
    }
   ],
   "source": [
    "y.shape"
   ]
  },
  {
   "cell_type": "code",
   "execution_count": 26,
   "metadata": {},
   "outputs": [],
   "source": [
    "from sklearn.model_selection import train_test_split\n",
    "\n",
    "X_train, X_test, y_train, y_test = train_test_split(X, y, test_size=0.3, random_state=1, stratify=y)"
   ]
  },
  {
   "cell_type": "code",
   "execution_count": 27,
   "metadata": {},
   "outputs": [
    {
     "data": {
      "text/plain": [
       "(117478, 12)"
      ]
     },
     "execution_count": 27,
     "metadata": {},
     "output_type": "execute_result"
    }
   ],
   "source": [
    "X_train.shape"
   ]
  },
  {
   "cell_type": "code",
   "execution_count": 28,
   "metadata": {},
   "outputs": [
    {
     "data": {
      "text/plain": [
       "(117478,)"
      ]
     },
     "execution_count": 28,
     "metadata": {},
     "output_type": "execute_result"
    }
   ],
   "source": [
    "y_train.shape"
   ]
  },
  {
   "cell_type": "code",
   "execution_count": 29,
   "metadata": {},
   "outputs": [
    {
     "data": {
      "text/plain": [
       "(50348, 12)"
      ]
     },
     "execution_count": 29,
     "metadata": {},
     "output_type": "execute_result"
    }
   ],
   "source": [
    "X_test.shape"
   ]
  },
  {
   "cell_type": "code",
   "execution_count": 30,
   "metadata": {},
   "outputs": [
    {
     "data": {
      "text/plain": [
       "(50348,)"
      ]
     },
     "execution_count": 30,
     "metadata": {},
     "output_type": "execute_result"
    }
   ],
   "source": [
    "y_test.shape"
   ]
  },
  {
   "cell_type": "markdown",
   "metadata": {},
   "source": [
    "# 学習"
   ]
  },
  {
   "cell_type": "code",
   "execution_count": 31,
   "metadata": {},
   "outputs": [],
   "source": [
    "import lightgbm as lgb\n",
    "from sklearn.model_selection import GridSearchCV"
   ]
  },
  {
   "cell_type": "code",
   "execution_count": 32,
   "metadata": {},
   "outputs": [
    {
     "name": "stdout",
     "output_type": "stream",
     "text": [
      "Wall time: 1min 58s\n"
     ]
    },
    {
     "data": {
      "text/plain": [
       "GridSearchCV(cv=3, error_score='raise-deprecating',\n",
       "             estimator=LGBMClassifier(boosting_type='gbdt', class_weight=None,\n",
       "                                      colsample_bytree=1.0,\n",
       "                                      importance_type='split',\n",
       "                                      learning_rate=0.1, max_depth=-1,\n",
       "                                      min_child_samples=20,\n",
       "                                      min_child_weight=0.001,\n",
       "                                      min_split_gain=0.0, n_estimators=100,\n",
       "                                      n_jobs=-1, num_leaves=31,\n",
       "                                      objective='binary', random_state=0,\n",
       "                                      reg_alpha=0.0, reg_lambda=0.0,\n",
       "                                      silent=True, subsample=1.0,\n",
       "                                      subsample_for_bin=200000,\n",
       "                                      subsample_freq=0),\n",
       "             iid='warn', n_jobs=None,\n",
       "             param_grid={'max_depth': [3, 9], 'min_child_weight': [1, 5],\n",
       "                         'num_leaves': [10, 70], 'reg_alpha': [0, 100],\n",
       "                         'reg_lambda': [0, 100]},\n",
       "             pre_dispatch='2*n_jobs', refit=True, return_train_score=False,\n",
       "             scoring='precision', verbose=0)"
      ]
     },
     "execution_count": 32,
     "metadata": {},
     "output_type": "execute_result"
    }
   ],
   "source": [
    "%%time\n",
    "\n",
    "lightgbm = lgb.LGBMClassifier(objective='binary', random_state=0)\n",
    "\n",
    "params = {\n",
    "    'num_leaves': [10, 70],\n",
    "    'max_depth': [3, 9],\n",
    "    'min_child_weight': [1, 5],\n",
    "    'reg_alpha': [0, 100],\n",
    "    'reg_lambda': [0, 100], \n",
    "}\n",
    "\n",
    "# 適合率重視\n",
    "gscv = GridSearchCV(\n",
    "    estimator=lightgbm, \n",
    "    param_grid=params, \n",
    "    scoring='precision',\n",
    "    cv=3\n",
    ")\n",
    "\n",
    "gscv.fit(X_train, y_train)"
   ]
  },
  {
   "cell_type": "code",
   "execution_count": 33,
   "metadata": {},
   "outputs": [
    {
     "data": {
      "text/plain": [
       "{'max_depth': 9,\n",
       " 'min_child_weight': 1,\n",
       " 'num_leaves': 70,\n",
       " 'reg_alpha': 100,\n",
       " 'reg_lambda': 0}"
      ]
     },
     "execution_count": 33,
     "metadata": {},
     "output_type": "execute_result"
    }
   ],
   "source": [
    "gscv.best_params_"
   ]
  },
  {
   "cell_type": "code",
   "execution_count": 34,
   "metadata": {},
   "outputs": [
    {
     "data": {
      "text/plain": [
       "0.6728812371173409"
      ]
     },
     "execution_count": 34,
     "metadata": {},
     "output_type": "execute_result"
    }
   ],
   "source": [
    "gscv.best_score_"
   ]
  },
  {
   "cell_type": "code",
   "execution_count": 35,
   "metadata": {},
   "outputs": [
    {
     "data": {
      "text/plain": [
       "<matplotlib.axes._subplots.AxesSubplot at 0x2c1cb467c48>"
      ]
     },
     "execution_count": 35,
     "metadata": {},
     "output_type": "execute_result"
    },
    {
     "data": {
      "image/png": "[encoded data removed]",
      "text/plain": [
       "<Figure size 432x288 with 1 Axes>"
      ]
     },
     "metadata": {
      "needs_background": "light"
     },
     "output_type": "display_data"
    }
   ],
   "source": [
    "lgb.plot_importance(gscv.best_estimator_)"
   ]
  },
  {
   "cell_type": "code",
   "execution_count": 36,
   "metadata": {},
   "outputs": [
    {
     "data": {
      "text/plain": [
       "array([0, 0, 1, ..., 1, 1, 0])"
      ]
     },
     "execution_count": 36,
     "metadata": {},
     "output_type": "execute_result"
    }
   ],
   "source": [
    "# テストデータを予測する\n",
    "y_pred = (gscv.best_estimator_.predict(X_test) > 0.5).astype(int)\n",
    "y_pred"
   ]
  },
  {
   "cell_type": "code",
   "execution_count": 37,
   "metadata": {},
   "outputs": [],
   "source": [
    "from sklearn.metrics import confusion_matrix\n",
    "from sklearn.metrics import classification_report"
   ]
  },
  {
   "cell_type": "code",
   "execution_count": 38,
   "metadata": {},
   "outputs": [
    {
     "data": {
      "text/plain": [
       "array([[20014,  6874],\n",
       "       [ 9252, 14208]], dtype=int64)"
      ]
     },
     "execution_count": 38,
     "metadata": {},
     "output_type": "execute_result"
    }
   ],
   "source": [
    "confusion_matrix(y_test, y_pred)"
   ]
  },
  {
   "cell_type": "code",
   "execution_count": 39,
   "metadata": {},
   "outputs": [
    {
     "name": "stdout",
     "output_type": "stream",
     "text": [
      "              precision    recall  f1-score   support\n",
      "\n",
      "           0       0.68      0.74      0.71     26888\n",
      "           1       0.67      0.61      0.64     23460\n",
      "\n",
      "    accuracy                           0.68     50348\n",
      "   macro avg       0.68      0.67      0.68     50348\n",
      "weighted avg       0.68      0.68      0.68     50348\n",
      "\n"
     ]
    }
   ],
   "source": [
    "print(classification_report(y_test, y_pred))"
   ]
  },
  {
   "cell_type": "markdown",
   "metadata": {},
   "source": [
    "正解率（accuracy） 0.68  \n",
    "適合率（precision） 0.67 1を選択して当てた割合  \n",
    "再現率（recall） 0.61 全1のうちの正解割合"
   ]
  }
 ],
 "metadata": {
  "kernelspec": {
   "display_name": "Python 3",
   "language": "python",
   "name": "python3"
  },
  "language_info": {
   "codemirror_mode": {
    "name": "ipython",
    "version": 3
   },
   "file_extension": ".py",
   "mimetype": "text/x-python",
   "name": "python",
   "nbconvert_exporter": "python",
   "pygments_lexer": "ipython3",
   "version": "3.7.4"
  }
 },
 "nbformat": 4,
 "nbformat_minor": 4
}
